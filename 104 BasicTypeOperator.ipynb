{
 "cells": [
  {
   "cell_type": "code",
   "execution_count": null,
   "metadata": {},
   "outputs": [],
   "source": [
    "# 정수 연산 예제\n",
    "# 정수 나누기( / ) 연산의 결과는 실수가 됨\n",
    "print( 5 + 3 )\n",
    "print( 5 - 3 )\n",
    "print( 5 * 3 )\n",
    "print( 5 / 3 )\n",
    "print( 5 // 3 )\n",
    "print( 5 % 3 )"
   ]
  },
  {
   "cell_type": "code",
   "execution_count": null,
   "metadata": {},
   "outputs": [],
   "source": [
    "# 실수 연산 예제\n",
    "# 실수 연산의 결과는 실수가 됨\n",
    "print( 5.0 + 3.0 )\n",
    "print( 5.0 - 3.0 )\n",
    "print( 5.0 * 3.0 )\n",
    "print( 5.0 / 3.0 )\n",
    "print( 5.0 // 3.0 )\n",
    "print( 5.0 % 3.0 )"
   ]
  },
  {
   "cell_type": "code",
   "execution_count": null,
   "metadata": {},
   "outputs": [],
   "source": [
    "# 정수 실수 연산 예제\n",
    "# 정수 실수 연산의 결과는 실수가 됨\n",
    "print( 5 + 3.0 )\n",
    "print( 5 - 3.0 )\n",
    "print( 5 * 3.0 )\n",
    "print( 5 / 3.0 )\n",
    "print( 5 // 3.0 )\n",
    "print( 5 % 3.0 )"
   ]
  },
  {
   "cell_type": "code",
   "execution_count": null,
   "metadata": {},
   "outputs": [],
   "source": [
    "# 문자열 수치 연산\n",
    "# 문자열간의 덧셈과 정수 곱셈 연산만 가능함.\n",
    "# 그 외는 문자열 수치 연산은 에러가 발생함\n",
    "print( \"abc \" + \"def\" )\n",
    "print( \"abc \" * 3 )"
   ]
  },
  {
   "cell_type": "code",
   "execution_count": null,
   "metadata": {},
   "outputs": [],
   "source": [
    "# 문자열 정수 덧셈 연산 에러 발생 \n",
    "print( \"abcd\" + 3 )"
   ]
  }
 ],
 "metadata": {
  "kernelspec": {
   "display_name": "Python 3",
   "language": "python",
   "name": "python3"
  },
  "language_info": {
   "codemirror_mode": {
    "name": "ipython",
    "version": 3
   },
   "file_extension": ".py",
   "mimetype": "text/x-python",
   "name": "python",
   "nbconvert_exporter": "python",
   "pygments_lexer": "ipython3",
   "version": "3.10.11"
  }
 },
 "nbformat": 4,
 "nbformat_minor": 2
}
