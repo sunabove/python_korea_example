{
 "cells": [
  {
   "cell_type": "code",
   "execution_count": 1,
   "metadata": {},
   "outputs": [
    {
     "name": "stdout",
     "output_type": "stream",
     "text": [
      "8\n",
      "2\n",
      "15\n",
      "1.6666666666666667\n",
      "1\n",
      "2\n"
     ]
    }
   ],
   "source": [
    "# 정수 연산 예제\n",
    "# 정수 나누기( / ) 연산의 결과는 실수가 됨\n",
    "print( 5 + 3 )\n",
    "print( 5 - 3 )\n",
    "print( 5 * 3 )\n",
    "print( 5 / 3 )\n",
    "print( 5 // 3 )\n",
    "print( 5 % 3 )"
   ]
  },
  {
   "cell_type": "code",
   "execution_count": 2,
   "metadata": {},
   "outputs": [
    {
     "name": "stdout",
     "output_type": "stream",
     "text": [
      "8.0\n",
      "2.0\n",
      "15.0\n",
      "1.6666666666666667\n",
      "1.0\n",
      "2.0\n"
     ]
    }
   ],
   "source": [
    "# 실수 연산 예제\n",
    "# 실수 연산의 결과는 실수가 됨\n",
    "print( 5.0 + 3.0 )\n",
    "print( 5.0 - 3.0 )\n",
    "print( 5.0 * 3.0 )\n",
    "print( 5.0 / 3.0 )\n",
    "print( 5.0 // 3.0 )\n",
    "print( 5.0 % 3.0 )"
   ]
  },
  {
   "cell_type": "code",
   "execution_count": 3,
   "metadata": {},
   "outputs": [
    {
     "name": "stdout",
     "output_type": "stream",
     "text": [
      "8.0\n",
      "2.0\n",
      "15.0\n",
      "1.6666666666666667\n",
      "1.0\n",
      "2.0\n"
     ]
    }
   ],
   "source": [
    "# 정수 실수 연산 예제\n",
    "# 정수 실수 연산의 결과는 실수가 됨\n",
    "print( 5 + 3.0 )\n",
    "print( 5 - 3.0 )\n",
    "print( 5 * 3.0 )\n",
    "print( 5 / 3.0 )\n",
    "print( 5 // 3.0 )\n",
    "print( 5 % 3.0 )"
   ]
  },
  {
   "cell_type": "code",
   "execution_count": 4,
   "metadata": {},
   "outputs": [
    {
     "name": "stdout",
     "output_type": "stream",
     "text": [
      "abc def\n",
      "abc abc abc \n"
     ]
    }
   ],
   "source": [
    "# 문자열 수치 연산\n",
    "# 문자열간의 덧셈과 정수 곱셈 연산만 가능함.\n",
    "# 그 외는 문자열 수치 연산은 에러가 발생함\n",
    "print( \"abc \" + \"def\" )\n",
    "print( \"abc \" * 3 )"
   ]
  },
  {
   "cell_type": "code",
   "execution_count": 5,
   "metadata": {},
   "outputs": [
    {
     "ename": "TypeError",
     "evalue": "can only concatenate str (not \"int\") to str",
     "output_type": "error",
     "traceback": [
      "\u001b[1;31m---------------------------------------------------------------------------\u001b[0m",
      "\u001b[1;31mTypeError\u001b[0m                                 Traceback (most recent call last)",
      "Cell \u001b[1;32mIn[5], line 2\u001b[0m\n\u001b[0;32m      1\u001b[0m \u001b[38;5;66;03m# 문자열 정수 덧셈 연산 에러 발생 \u001b[39;00m\n\u001b[1;32m----> 2\u001b[0m \u001b[38;5;28mprint\u001b[39m( \u001b[38;5;124;43m\"\u001b[39;49m\u001b[38;5;124;43mabcd\u001b[39;49m\u001b[38;5;124;43m\"\u001b[39;49m\u001b[43m \u001b[49m\u001b[38;5;241;43m+\u001b[39;49m\u001b[43m \u001b[49m\u001b[38;5;241;43m3\u001b[39;49m )\n",
      "\u001b[1;31mTypeError\u001b[0m: can only concatenate str (not \"int\") to str"
     ]
    }
   ],
   "source": [
    "# 문자열 정수 덧셈 연산 에러 발생 \n",
    "print( \"abcd\" + 3 )"
   ]
  }
 ],
 "metadata": {
  "kernelspec": {
   "display_name": "Python 3",
   "language": "python",
   "name": "python3"
  },
  "language_info": {
   "codemirror_mode": {
    "name": "ipython",
    "version": 3
   },
   "file_extension": ".py",
   "mimetype": "text/x-python",
   "name": "python",
   "nbconvert_exporter": "python",
   "pygments_lexer": "ipython3",
   "version": "3.10.11"
  }
 },
 "nbformat": 4,
 "nbformat_minor": 2
}
