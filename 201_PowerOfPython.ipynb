{
 "cells": [
  {
   "cell_type": "code",
   "execution_count": 11,
   "metadata": {},
   "outputs": [
    {
     "name": "stdout",
     "output_type": "stream",
     "text": [
      "1 1j\n",
      "2 (-1+0j)\n",
      "3 (-0-1j)\n",
      "4 (1-0j)\n"
     ]
    }
   ],
   "source": [
    "# 파이썬 허수 사용\n",
    "\n",
    "a = 1j \n",
    "print( a )\n",
    "print( a*a )\n",
    "print( a*a*a )\n",
    "print( a*a*a*a )"
   ]
  }
 ],
 "metadata": {
  "kernelspec": {
   "display_name": "Python 3",
   "language": "python",
   "name": "python3"
  },
  "language_info": {
   "codemirror_mode": {
    "name": "ipython",
    "version": 3
   },
   "file_extension": ".py",
   "mimetype": "text/x-python",
   "name": "python",
   "nbconvert_exporter": "python",
   "pygments_lexer": "ipython3",
   "version": "3.11.9"
  }
 },
 "nbformat": 4,
 "nbformat_minor": 2
}
