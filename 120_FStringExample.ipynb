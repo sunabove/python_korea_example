{
 "cells": [
  {
   "cell_type": "code",
   "execution_count": 51,
   "metadata": {},
   "outputs": [
    {
     "name": "stdout",
     "output_type": "stream",
     "text": [
      "i = 1234\n",
      "i = 2322\n",
      "i = 4d2\n",
      "i = 4D2\n"
     ]
    }
   ],
   "source": [
    "i = 1234 \n",
    "\n",
    "print( f\"i = {i}\" )\n",
    "print( f\"i = {i:o}\" )\n",
    "print( f\"i = {i:x}\" )\n",
    "print( f\"i = {i:X}\" )"
   ]
  }
 ],
 "metadata": {
  "kernelspec": {
   "display_name": "Python 3",
   "language": "python",
   "name": "python3"
  },
  "language_info": {
   "codemirror_mode": {
    "name": "ipython",
    "version": 3
   },
   "file_extension": ".py",
   "mimetype": "text/x-python",
   "name": "python",
   "nbconvert_exporter": "python",
   "pygments_lexer": "ipython3",
   "version": "3.12.3"
  }
 },
 "nbformat": 4,
 "nbformat_minor": 2
}
