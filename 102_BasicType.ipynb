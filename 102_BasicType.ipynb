{
 "cells": [
  {
   "cell_type": "markdown",
   "metadata": {},
   "source": [
    "Python 3 기본 데이터 타입\n",
    "1. 정수형 (int)\n",
    "2. 실수형 (float)\n",
    "3. 문자형 (str)\n",
    "4. 허수형 (complex)\n",
    "5. 논리형 (bool)\n",
    "7. None   (None)"
   ]
  },
  {
   "cell_type": "code",
   "execution_count": null,
   "metadata": {},
   "outputs": [],
   "source": [
    "# 정수형은 소수점을 제외하여 숫자를 표현\n",
    "# 정수형은 표현 범위의 제한이 없음\n",
    "i = 123\n",
    "print( i )\n",
    "print( type( i ) )\n",
    "print( isinstance( i, int ) )"
   ]
  },
  {
   "cell_type": "code",
   "execution_count": null,
   "metadata": {},
   "outputs": [],
   "source": [
    "# 실수형은 소수점을 포함하여 숫자를 표현\n",
    "# 실수형의 최대값/최소값의 제한이 있음\n",
    "f = 1.23\n",
    "print( f )\n",
    "print( type( f ) )\n",
    "print( isinstance( f, float ) )"
   ]
  },
  {
   "cell_type": "code",
   "execution_count": null,
   "metadata": {},
   "outputs": [],
   "source": [
    "# 문자형은 0개 이상의 문자들열 표현\n",
    "s = \"sample\"\n",
    "print( s )\n",
    "print( type( s ) )\n",
    "print( isinstance( s, str ) )"
   ]
  },
  {
   "cell_type": "code",
   "execution_count": null,
   "metadata": {},
   "outputs": [],
   "source": [
    "# 허수형은 허수를 표현\n",
    "j = 1 + 2j\n",
    "print( j )\n",
    "print( type( j ) )\n",
    "print( isinstance( j, complex ) )"
   ]
  },
  {
   "cell_type": "code",
   "execution_count": null,
   "metadata": {},
   "outputs": [],
   "source": [
    "# 논리형은 참 또는 거짓을 표현\n",
    "b = True\n",
    "print( b )\n",
    "print( type( b ) )\n",
    "print( isinstance( b, bool ) )"
   ]
  },
  {
   "cell_type": "code",
   "execution_count": null,
   "metadata": {},
   "outputs": [],
   "source": [
    "# None은 데이터가 없음을 표현\n",
    "n = None\n",
    "print( n )\n",
    "print( type( n ) )\n",
    "print( n is None )"
   ]
  }
 ],
 "metadata": {
  "kernelspec": {
   "display_name": "Python 3",
   "language": "python",
   "name": "python3"
  },
  "language_info": {
   "codemirror_mode": {
    "name": "ipython",
    "version": 3
   },
   "file_extension": ".py",
   "mimetype": "text/x-python",
   "name": "python",
   "nbconvert_exporter": "python",
   "pygments_lexer": "ipython3",
   "version": "3.10.11"
  }
 },
 "nbformat": 4,
 "nbformat_minor": 2
}
