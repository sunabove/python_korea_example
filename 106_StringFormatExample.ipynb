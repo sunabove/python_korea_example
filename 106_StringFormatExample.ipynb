{
 "cells": [
  {
   "cell_type": "code",
   "execution_count": 1,
   "metadata": {},
   "outputs": [
    {
     "name": "stdout",
     "output_type": "stream",
     "text": [
      "Apple price : 2345.744 * 1234 = 2894648.0960000004\n"
     ]
    }
   ],
   "source": [
    "# + string concatenation\n",
    "\n",
    "item = \"Apple\" \n",
    "unit_price = 2345.744\n",
    "count = 1234\n",
    "\n",
    "print( item + \" price : \" + str( unit_price ) + \" * \" + str( count ) + \" = \" + str( unit_price*count )  )"
   ]
  },
  {
   "cell_type": "code",
   "execution_count": 33,
   "metadata": {},
   "outputs": [
    {
     "name": "stdout",
     "output_type": "stream",
     "text": [
      "Apple price : 2345.74 * 1234 = 2894648.1\n"
     ]
    }
   ],
   "source": [
    "# % string formatting\n",
    "\n",
    "item = \"Apple\" \n",
    "unit_price = 2345.744\n",
    "count = 1234\n",
    "\n",
    "print( \"%s price : %.2f * %d = %.1f\" % ( item, unit_price, count,  unit_price*count ) )"
   ]
  },
  {
   "cell_type": "code",
   "execution_count": 34,
   "metadata": {},
   "outputs": [
    {
     "name": "stdout",
     "output_type": "stream",
     "text": [
      "Apple price : 2,345.74 * 1,234 = 2,894,648.1\n"
     ]
    }
   ],
   "source": [
    "# format() string formatting\n",
    "\n",
    "item = \"Apple\"\n",
    "unit_price = 2345.744\n",
    "count = 1234\n",
    "\n",
    "print( \"{0} price : {1:,.2f} * {2:,d} = {3:,.1f}\".format( item, unit_price, count, unit_price*count ) )"
   ]
  },
  {
   "cell_type": "code",
   "execution_count": 35,
   "metadata": {},
   "outputs": [
    {
     "name": "stdout",
     "output_type": "stream",
     "text": [
      "Apple price : 2,345.74 * 1,234 = 2,894,648.1\n"
     ]
    }
   ],
   "source": [
    "# fstring formatting\n",
    "\n",
    "item = \"Apple\" \n",
    "unit_price = 2345.744\n",
    "count = 1234\n",
    "\n",
    "print( f\"{item} price : {unit_price:,.2f} * {count:,d} = {unit_price*count:,.1f}\" )"
   ]
  },
  {
   "cell_type": "code",
   "execution_count": 2,
   "metadata": {},
   "outputs": [
    {
     "name": "stdout",
     "output_type": "stream",
     "text": [
      "The apple price is $1,234.6.\n"
     ]
    }
   ],
   "source": [
    "print( f\"The apple price is ${1234.56:,.1f}.\" )"
   ]
  }
 ],
 "metadata": {
  "kernelspec": {
   "display_name": "Python 3",
   "language": "python",
   "name": "python3"
  },
  "language_info": {
   "codemirror_mode": {
    "name": "ipython",
    "version": 3
   },
   "file_extension": ".py",
   "mimetype": "text/x-python",
   "name": "python",
   "nbconvert_exporter": "python",
   "pygments_lexer": "ipython3",
   "version": "3.11.9"
  }
 },
 "nbformat": 4,
 "nbformat_minor": 2
}
